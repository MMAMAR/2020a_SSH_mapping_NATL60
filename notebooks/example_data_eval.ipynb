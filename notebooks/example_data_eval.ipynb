{
 "cells": [
  {
   "cell_type": "markdown",
   "metadata": {},
   "source": [
    "<h1> Demo. Data Evaluation </h1>"
   ]
  },
  {
   "cell_type": "markdown",
   "metadata": {},
   "source": [
    "An example of SSH reconstruction has been produced in the \"example_data_oi.ipynb\" notebook. Here, an example of data evaluation is proposed. The notebook is structured as follow: 1) reading of reference and reconstructed SSH fields, 2) make field on similar spatio-temporal grid and 3) comparison of reconstrusted and refernce SSH fields (statistical/spectral comparison)"
   ]
  },
  {
   "cell_type": "code",
   "execution_count": null,
   "metadata": {},
   "outputs": [],
   "source": [
    "import xarray as xr\n",
    "import cftime\n",
    "import geoviews as gv\n",
    "import matplotlib.pylab as plt\n",
    "from matplotlib.ticker import ScalarFormatter\n",
    "\n",
    "import numpy as np\n",
    "from datetime import datetime, timedelta\n",
    "import numpy\n",
    "import pyinterp\n",
    "import holoviews as hv\n",
    "import xrft\n",
    "\n",
    "from dask.diagnostics import ProgressBar\n",
    "\n",
    "gv.extension('bokeh')\n",
    "from matplotlib import rcParams\n",
    "rcParams['font.sans-serif'] = 'TeX Gyre Heros'"
   ]
  },
  {
   "cell_type": "markdown",
   "metadata": {},
   "source": [
    "#### 1) Read reference & reconstructed SSH fields"
   ]
  },
  {
   "cell_type": "markdown",
   "metadata": {},
   "source": [
    "##### Read reference SSH field"
   ]
  },
  {
   "cell_type": "code",
   "execution_count": null,
   "metadata": {},
   "outputs": [],
   "source": [
    "dc_ref = xr.open_mfdataset('./dc_ref/*.nc', combine='nested', concat_dim='time')\n",
    "dc_ref"
   ]
  },
  {
   "cell_type": "markdown",
   "metadata": {},
   "source": [
    "##### Read reconstructed SSH field"
   ]
  },
  {
   "cell_type": "code",
   "execution_count": null,
   "metadata": {},
   "outputs": [],
   "source": [
    "dc_reconstruction = xr.open_mfdataset('ssh_rec.nc', combine='by_coords')\n",
    "dc_reconstruction"
   ]
  },
  {
   "cell_type": "markdown",
   "metadata": {},
   "source": [
    "#### 2) Regriding: make reconstructed & reference SSH fields onto the same grid"
   ]
  },
  {
   "cell_type": "markdown",
   "metadata": {},
   "source": [
    "##### *The reconstructed SSH is not on the same spatio-temporal grid as the refrence field,*\n",
    "*A regridding on the similar spato-temporal grid s required for the comparison. Here we have mde the choice to \"temporally degrade\" the reference SSH field into daily mean sample and interpolate the reconstructed field onto this new reference spatio-temporal grid. For this, the **pyinterp package** is used*  "
   ]
  },
  {
   "cell_type": "code",
   "execution_count": null,
   "metadata": {},
   "outputs": [],
   "source": [
    "dc_ref_sample = dc_ref.resample(time='1D').mean()\n",
    "dc_ref_sample"
   ]
  },
  {
   "cell_type": "markdown",
   "metadata": {},
   "source": [
    "##### Define reconstruction grid (source grid to interpolate)"
   ]
  },
  {
   "cell_type": "code",
   "execution_count": null,
   "metadata": {},
   "outputs": [],
   "source": [
    "x_axis = pyinterp.Axis(dc_reconstruction[\"lon\"][:], is_circle=False)\n",
    "y_axis = pyinterp.Axis(dc_reconstruction[\"lat\"][:])\n",
    "z_axis = pyinterp.TemporalAxis(dc_reconstruction[\"time\"][:])"
   ]
  },
  {
   "cell_type": "code",
   "execution_count": null,
   "metadata": {},
   "outputs": [],
   "source": [
    "ssh_rec = dc_reconstruction[\"ssh_rec\"][:].T"
   ]
  },
  {
   "cell_type": "code",
   "execution_count": null,
   "metadata": {},
   "outputs": [],
   "source": [
    "grid = pyinterp.Grid3D(x_axis, y_axis, z_axis, ssh_rec.data)"
   ]
  },
  {
   "cell_type": "markdown",
   "metadata": {},
   "source": [
    "##### Define reference grid (target grid where to interpolate)"
   ]
  },
  {
   "cell_type": "code",
   "execution_count": null,
   "metadata": {},
   "outputs": [],
   "source": [
    "mx, my, mz = np.meshgrid(\n",
    "    dc_ref_sample.lon.values,\n",
    "    dc_ref_sample.lat.values,\n",
    "    z_axis.safe_cast(dc_ref_sample.time.values),\n",
    "    indexing=\"ij\")"
   ]
  },
  {
   "cell_type": "markdown",
   "metadata": {},
   "source": [
    "##### Interpolate..."
   ]
  },
  {
   "cell_type": "code",
   "execution_count": null,
   "metadata": {},
   "outputs": [],
   "source": [
    "ssh_rec = pyinterp.trivariate(grid,\n",
    "                          mx.flatten(),\n",
    "                          my.flatten(),\n",
    "                          mz.flatten(),\n",
    "                          bounds_error=True).reshape(mx.shape).T"
   ]
  },
  {
   "cell_type": "markdown",
   "metadata": {},
   "source": [
    "##### Save the SSH reconstruction interpolated onto the reference spatio-temporal grid into *dc_reconstruction_interp* dataset "
   ]
  },
  {
   "cell_type": "code",
   "execution_count": null,
   "metadata": {},
   "outputs": [],
   "source": [
    "dc_reconstruction_interp = xr.Dataset({'sossheig' : (('time', 'lat', 'lon'), ssh_rec)},\n",
    "                               coords={'time': dc_ref_sample.time.values,\n",
    "                                       'lon': dc_ref_sample.lon.values, \n",
    "                                       'lat': dc_ref_sample.lat.values, \n",
    "                                       })  \n",
    "dc_reconstruction_interp  "
   ]
  },
  {
   "cell_type": "markdown",
   "metadata": {},
   "source": [
    "#### 3) Comparison between reference and reconstructed SSH fields"
   ]
  },
  {
   "cell_type": "markdown",
   "metadata": {},
   "source": [
    "##### Plot example..."
   ]
  },
  {
   "cell_type": "code",
   "execution_count": null,
   "metadata": {},
   "outputs": [],
   "source": [
    "time_selection = '2013-01-01T23:00:00'\n",
    "plt.figure(figsize=(15, 5))\n",
    "plt.subplot(121)\n",
    "dc_reconstruction_interp.sossheig.sel(time=time_selection, method='nearest').plot(vmin=-0.2, vmax=1, cmap='gist_stern')\n",
    "plt.title('Reconstruction')\n",
    "plt.subplot(122)\n",
    "dc_ref_sample.sossheig.sel(time=time_selection, method='nearest').plot(vmin=-0.2, vmax=1, cmap='gist_stern')\n",
    "plt.title('Reference')\n",
    "# plt.savefig('example_ssh.png')"
   ]
  },
  {
   "cell_type": "code",
   "execution_count": null,
   "metadata": {},
   "outputs": [],
   "source": [
    "\n",
    "# SSH reconstruction resampled, otherwise too heavy for display\n",
    "dataset2 = gv.Dataset(dc_reconstruction_interp.coarsen({'lon':6, 'lat': 6, 'time':6}, boundary=\"trim\").mean(), ['lon', 'lat', 'time'], 'sossheig')\n",
    "images2 = dataset2.to(gv.Image).redim(sossheig=dict(range=(-0.2, 1.)))\n",
    "\n",
    "# SSH reference resampled, otherwise too heavy for display\n",
    "dataset3 = gv.Dataset(dc_ref_sample.coarsen({'lon':6, 'lat': 6, 'time':6}, boundary=\"trim\").mean(), ['lon', 'lat', 'time'], 'sossheig')\n",
    "images3 = dataset3.to(gv.Image).redim(sossheig=dict(range=(-0.2, 1.)))\n",
    "\n",
    "# delta SSH\n",
    "delta_ssh = (dc_reconstruction_interp - dc_ref_sample).coarsen({'lon':6, 'lat': 6, 'time':6}, boundary=\"trim\").mean()\n",
    "delta_ssh = delta_ssh.rename({'sossheig': 'delta_ssh'})\n",
    "\n",
    "dataset1 = gv.Dataset(delta_ssh, ['lon', 'lat', 'time'], 'delta_ssh')\n",
    "images1 = dataset1.to(gv.Image).redim(delta_ssh=dict(range=(-0.3, 0.3)))"
   ]
  },
  {
   "cell_type": "code",
   "execution_count": null,
   "metadata": {},
   "outputs": [],
   "source": [
    "layout = hv.Layout(images3.opts(width=400, height=300, cmap='gist_stern', colorbar=True, title='SSH reference', toolbar='above') + images2.opts(width=400, height=300, cmap='gist_stern', colorbar=True, title='SSH reconstruction', toolbar='above') + images1.opts(width=400, height=300, cmap='coolwarm', colorbar=True, title='SSH reconstruction - reference')).cols(2)"
   ]
  },
  {
   "cell_type": "code",
   "execution_count": null,
   "metadata": {},
   "outputs": [],
   "source": [
    "layout"
   ]
  },
  {
   "cell_type": "markdown",
   "metadata": {},
   "source": [
    "#### 4) Evaluation of the reconstructed SSH fields"
   ]
  },
  {
   "cell_type": "markdown",
   "metadata": {},
   "source": [
    "##### Compute RMSE-based score"
   ]
  },
  {
   "cell_type": "code",
   "execution_count": null,
   "metadata": {},
   "outputs": [],
   "source": [
    "rmse_t = (((dc_reconstruction_interp.sossheig - dc_ref_sample.sossheig)**2).mean(dim=('lon', 'lat')))**0.5/(((dc_ref_sample.sossheig)**2).mean(dim=('lon', 'lat')))**0.5"
   ]
  },
  {
   "cell_type": "code",
   "execution_count": null,
   "metadata": {},
   "outputs": [],
   "source": [
    "plt.figure(figsize=(15, 5))\n",
    "(1.0 - rmse_t).plot(color='r', lw=3)\n",
    "plt.ylabel('RMSEs(t)', color='r', fontweight='bold', fontsize=20)\n",
    "plt.xlabel('Time', fontweight='bold', fontsize=20)\n",
    "plt.ylim(0, 1)\n",
    "plt.xticks(fontsize=18)\n",
    "plt.yticks(fontsize=18)\n",
    "plt.grid(ls='--')\n",
    "plt.twinx()\n",
    "plt.bar(dc_reconstruction.time.values, dc_reconstruction.nobs.values, color='grey', alpha=0.3, zorder=1)\n",
    "plt.ylabel('nobs(t)', color='grey', fontweight='bold', fontsize=20)\n",
    "plt.ylim(0, 10000)\n",
    "plt.yticks(fontsize=18)\n",
    "plt.title('RMSE-based score', fontweight='bold', fontsize=20)\n",
    "plt.savefig('rmse_t.png')"
   ]
  },
  {
   "cell_type": "markdown",
   "metadata": {},
   "source": [
    "##### Compute PSD-based score"
   ]
  },
  {
   "cell_type": "code",
   "execution_count": null,
   "metadata": {},
   "outputs": [],
   "source": [
    "with ProgressBar():\n",
    "\n",
    "    err = (dc_reconstruction_interp.sossheig - dc_ref_sample.sossheig)\n",
    "    err = err.chunk({\"lat\":1, 'time': err.time.size, 'lon': err.lon.size})\n",
    "    # make time vector in days units (can be nicer !!!!!)\n",
    "    err['time'] = np.arange(0, err['time'].values.size, 1.)#/24.\n",
    "    \n",
    "    signal = dc_ref_sample.sossheig.chunk({\"lat\":1, 'time': dc_ref_sample.sossheig.time.size, 'lon': dc_ref_sample.sossheig.lon.size})\n",
    "    # make time vector in days units\n",
    "    signal['time'] = np.arange(0, signal['time'].values.size, 1.)#/24.\n",
    "    \n",
    "    \n",
    "    psd_err = xrft.power_spectrum(err, dim=['time', 'lon'], detrend='linear', window=True).compute()\n",
    "    psd_signal = xrft.power_spectrum(signal, dim=['time', 'lon'], detrend='linear', window=True).compute()\n",
    "    "
   ]
  },
  {
   "cell_type": "code",
   "execution_count": null,
   "metadata": {},
   "outputs": [],
   "source": [
    "mean_psd_signal = psd_signal.mean(dim='lat').where((psd_signal.freq_lon > 0.) & (psd_signal.freq_time > 0), drop=True)\n",
    "mean_psd_err = psd_err.mean(dim='lat').where((psd_err.freq_lon > 0.) & (psd_err.freq_time > 0), drop=True)"
   ]
  },
  {
   "cell_type": "code",
   "execution_count": null,
   "metadata": {},
   "outputs": [],
   "source": [
    "plt.figure(figsize=(8, 6))\n",
    "ax = plt.gca()\n",
    "ax.invert_yaxis()\n",
    "ax.invert_xaxis()\n",
    "c1 = plt.contourf(1./(mean_psd_signal.freq_lon), 1./mean_psd_signal.freq_time, (1.0 - mean_psd_err/mean_psd_signal), levels=np.arange(0,1.1, 0.1), cmap='RdYlGn', extend='both')\n",
    "cbar = plt.colorbar(pad=0.01)\n",
    "plt.xlabel('wavenumber(degree_lon)', fontweight='bold', fontsize=20)\n",
    "plt.ylabel('frequency (days)', fontweight='bold', fontsize=20)\n",
    "#plt.xscale('log')\n",
    "plt.yscale('log')\n",
    "plt.grid(linestyle='--', lw=1, color='w')\n",
    "plt.xticks(fontsize=18)\n",
    "plt.yticks(fontsize=18)\n",
    "plt.title('PSD-based score', fontweight='bold', fontsize=20)\n",
    "for axis in [ax.xaxis, ax.yaxis]:\n",
    "    axis.set_major_formatter(ScalarFormatter())\n",
    "c2 = plt.contour(1./(mean_psd_signal.freq_lon), 1./mean_psd_signal.freq_time, (1.0 - mean_psd_err/mean_psd_signal), levels=[0.5], linewidths=2, colors='k')\n",
    "cbar.add_lines(c2)\n",
    "\n",
    "bbox_props = dict(boxstyle=\"round,pad=0.5\", fc=\"w\", ec=\"k\", lw=2)\n",
    "ax.annotate('Resolved scales',\n",
    "            xy=(1.15, 0.8),\n",
    "            xycoords='axes fraction',\n",
    "            xytext=(1.15, 0.55),\n",
    "            bbox=bbox_props,\n",
    "            arrowprops=\n",
    "                dict(facecolor='black', shrink=0.05),\n",
    "                horizontalalignment='left',\n",
    "                verticalalignment='center')\n",
    "\n",
    "ax.annotate('UN-resolved scales',\n",
    "            xy=(1.15, 0.2),\n",
    "            xycoords='axes fraction',\n",
    "            xytext=(1.15, 0.45),\n",
    "            bbox=bbox_props,\n",
    "            arrowprops=\n",
    "                dict(facecolor='black', shrink=0.05),\n",
    "                horizontalalignment='left',\n",
    "                verticalalignment='center')"
   ]
  }
 ],
 "metadata": {
  "kernelspec": {
   "display_name": "Python 3",
   "language": "python",
   "name": "python3"
  },
  "language_info": {
   "codemirror_mode": {
    "name": "ipython",
    "version": 3
   },
   "file_extension": ".py",
   "mimetype": "text/x-python",
   "name": "python",
   "nbconvert_exporter": "python",
   "pygments_lexer": "ipython3",
   "version": "3.7.7"
  }
 },
 "nbformat": 4,
 "nbformat_minor": 4
}
