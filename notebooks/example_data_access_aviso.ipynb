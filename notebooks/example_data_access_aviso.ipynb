{
 "cells": [
  {
   "cell_type": "markdown",
   "metadata": {},
   "source": [
    "# I- Demo. Data Access from AVISO+ repository"
   ]
  },
  {
   "cell_type": "markdown",
   "metadata": {},
   "source": [
    "This notebook aims at documenting how to access & manipulate the input datasets for one \"ocean data challenge\".\n",
    "Simulated Sea Surface Height (SSH) datasets are available on the AVISO+ opendap server.\n",
    "The **2020a-SSH-mapping-NATL60-grid** dataset refers to the reference simulation, a.k.a NATL60-CMJ165 nature run carried out by the MEOM Team. The **2020a-SSH-mapping-NATL60-along-track** corresponds to the observations datasets (for various altimeter missions) based on nadir (TOPEX/Poseidon, Jason1, Envisat, Geosat-2) and large swath (SWOT) orbits constructed with the [SWOTsimulator](https://github.com/SWOTsimulator/swotsimulator) package.\n",
    "The example below read the dataset using an xarray interface for accessing OpenDAP datasets with pydap. Alternatively, you may use the ```wget``` command to download the files. Note that users must first create an AVISO+ account to access the data. You can follow [this guide](https://github.com/ocean-data-challenges/2020a_SSH_mapping_NATL60/wiki/AVISO---account-creation) for creating your account... "
   ]
  },
  {
   "cell_type": "code",
   "execution_count": null,
   "metadata": {},
   "outputs": [],
   "source": [
    "import xarray as xr\n",
    "import requests as rq\n",
    "import hvplot.xarray\n",
    "import sys"
   ]
  },
  {
   "cell_type": "markdown",
   "metadata": {},
   "source": [
    "### Open your AVISO+ session: fill the ```<AVISO_LOGIN>``` and ```<AVISO_PWD>``` items below"
   ]
  },
  {
   "cell_type": "code",
   "execution_count": null,
   "metadata": {},
   "outputs": [],
   "source": [
    "my_aviso_session = rq.Session()\n",
    "my_aviso_session.auth = (\"<AVISO_LOGIN>\", \"<AVISO_PWD>\")"
   ]
  },
  {
   "cell_type": "code",
   "execution_count": null,
   "metadata": {},
   "outputs": [],
   "source": [
    "url_alongtrack = 'https://tds.aviso.altimetry.fr/thredds/dodsC/2020a-SSH-mapping-NATL60-along-track'"
   ]
  },
  {
   "cell_type": "code",
   "execution_count": null,
   "metadata": {},
   "outputs": [],
   "source": [
    "sys.path.append('..')"
   ]
  },
  {
   "cell_type": "code",
   "execution_count": null,
   "metadata": {},
   "outputs": [],
   "source": [
    "from src.mod_plot import *"
   ]
  },
  {
   "cell_type": "markdown",
   "metadata": {},
   "source": [
    "### Load Jason1 pseudo obs."
   ]
  },
  {
   "cell_type": "code",
   "execution_count": null,
   "metadata": {},
   "outputs": [],
   "source": [
    "url_ds_j1 = f'{url_alongtrack}/2020a_SSH_mapping_NATL60_jason1.nc'\n",
    "store_ds_j1 = xr.backends.PydapDataStore.open(url_ds_j1, session=my_aviso_session)"
   ]
  },
  {
   "cell_type": "code",
   "execution_count": null,
   "metadata": {},
   "outputs": [],
   "source": [
    "ds_j1 = xr.open_dataset(store_ds_j1)\n",
    "ds_j1"
   ]
  },
  {
   "cell_type": "code",
   "execution_count": null,
   "metadata": {},
   "outputs": [],
   "source": [
    "# Alternatiavely, you may use wget:\n",
    "#!wget --user '<AVISO_LOGIN>' --password '<AVISO_PWD>' 'https://tds.aviso.altimetry.fr/thredds/fileServer/2020a-SSH-mapping-NATL60-along-track/2020a_SSH_mapping_NATL60_jason1.nc'"
   ]
  },
  {
   "cell_type": "markdown",
   "metadata": {},
   "source": [
    "### Load Envisat pseudo obs."
   ]
  },
  {
   "cell_type": "code",
   "execution_count": null,
   "metadata": {},
   "outputs": [],
   "source": [
    "url_ds_en = f'{url_alongtrack}/2020a_SSH_mapping_NATL60_envisat.nc'\n",
    "store_ds_en = xr.backends.PydapDataStore.open(url_ds_en, session=my_aviso_session)"
   ]
  },
  {
   "cell_type": "code",
   "execution_count": null,
   "metadata": {},
   "outputs": [],
   "source": [
    "ds_en = xr.open_dataset(store_ds_en)\n",
    "ds_en"
   ]
  },
  {
   "cell_type": "markdown",
   "metadata": {},
   "source": [
    "### Load Topex/Poseidon Interleaved pseudo obs."
   ]
  },
  {
   "cell_type": "code",
   "execution_count": null,
   "metadata": {},
   "outputs": [],
   "source": [
    "url_ds_tpn = f'{url_alongtrack}/2020a_SSH_mapping_NATL60_topex-poseidon_interleaved.nc'\n",
    "store_ds_tpn = xr.backends.PydapDataStore.open(url_ds_tpn, session=my_aviso_session)"
   ]
  },
  {
   "cell_type": "code",
   "execution_count": null,
   "metadata": {},
   "outputs": [],
   "source": [
    "ds_tpn = xr.open_dataset(store_ds_tpn)\n",
    "ds_tpn"
   ]
  },
  {
   "cell_type": "markdown",
   "metadata": {},
   "source": [
    "### Load Geosat2 pseudo obs."
   ]
  },
  {
   "cell_type": "code",
   "execution_count": null,
   "metadata": {},
   "outputs": [],
   "source": [
    "url_ds_g2 = f'{url_alongtrack}/2020a_SSH_mapping_NATL60_geosat2.nc'\n",
    "store_ds_g2 = xr.backends.PydapDataStore.open(url_ds_g2, session=my_aviso_session)"
   ]
  },
  {
   "cell_type": "code",
   "execution_count": null,
   "metadata": {},
   "outputs": [],
   "source": [
    "ds_g2 = xr.open_dataset(store_ds_g2)\n",
    "ds_g2"
   ]
  },
  {
   "cell_type": "markdown",
   "metadata": {},
   "source": [
    "### Load SWOT nadir pseudo obs."
   ]
  },
  {
   "cell_type": "code",
   "execution_count": null,
   "metadata": {},
   "outputs": [],
   "source": [
    "url_ds_swot_nadir = f'{url_alongtrack}/2020a_SSH_mapping_NATL60_nadir_swot.nc'\n",
    "store_ds_swot_nadir = xr.backends.PydapDataStore.open(url_ds_swot_nadir, session=my_aviso_session)"
   ]
  },
  {
   "cell_type": "code",
   "execution_count": null,
   "metadata": {},
   "outputs": [],
   "source": [
    "ds_swot_nadir = xr.open_dataset(store_ds_swot_nadir)\n",
    "ds_swot_nadir"
   ]
  },
  {
   "cell_type": "markdown",
   "metadata": {},
   "source": [
    "### Load SWOT karin pseudo obs."
   ]
  },
  {
   "cell_type": "code",
   "execution_count": null,
   "metadata": {},
   "outputs": [],
   "source": [
    "url_ds_swot_karin = f'{url_alongtrack}/2020a_SSH_mapping_NATL60_karin_swot.nc'\n",
    "store_ds_swot_karin = xr.backends.PydapDataStore.open(url_ds_swot_karin, session=my_aviso_session)"
   ]
  },
  {
   "cell_type": "code",
   "execution_count": null,
   "metadata": {},
   "outputs": [],
   "source": [
    "ds_swot_karin = xr.open_dataset(store_ds_swot_karin)\n",
    "ds_swot_karin"
   ]
  },
  {
   "cell_type": "markdown",
   "metadata": {},
   "source": [
    "### Load Reference gridded SSH"
   ]
  },
  {
   "cell_type": "code",
   "execution_count": null,
   "metadata": {},
   "outputs": [],
   "source": [
    "url_dc_ref = 'https://tds.aviso.altimetry.fr/thredds/dodsC/2020a-SSH-mapping-NATL60-grid'\n",
    "store_dc_ref = xr.backends.PydapDataStore.open(url_dc_ref, session=my_aviso_session)"
   ]
  },
  {
   "cell_type": "code",
   "execution_count": null,
   "metadata": {},
   "outputs": [],
   "source": [
    "dc_ref = xr.open_dataset(store_dc_ref, chunks={'time': '100MB'})\n",
    "dc_ref"
   ]
  },
  {
   "cell_type": "code",
   "execution_count": null,
   "metadata": {},
   "outputs": [],
   "source": []
  },
  {
   "cell_type": "markdown",
   "metadata": {},
   "source": [
    "### Example of figures"
   ]
  },
  {
   "cell_type": "code",
   "execution_count": null,
   "metadata": {},
   "outputs": [],
   "source": [
    "list_of_dataset = [ds_j1, ds_g2, ds_en, ds_tpn]\n",
    "central_date = numpy.datetime64('2012-10-05')\n",
    "delta_t = numpy.timedelta64(5, 'D')"
   ]
  },
  {
   "cell_type": "code",
   "execution_count": null,
   "metadata": {},
   "outputs": [],
   "source": [
    "plot_demo_obs(list_of_dataset, dc_ref, central_date, delta_t)"
   ]
  },
  {
   "cell_type": "code",
   "execution_count": null,
   "metadata": {},
   "outputs": [],
   "source": [
    "list_of_dataset = [ds_swot_karin]\n",
    "central_date = numpy.datetime64('2012-10-05')\n",
    "delta_t = numpy.timedelta64(5, 'D')"
   ]
  },
  {
   "cell_type": "code",
   "execution_count": null,
   "metadata": {},
   "outputs": [],
   "source": [
    "plot_demo_obs(list_of_dataset, dc_ref, central_date, delta_t)"
   ]
  },
  {
   "cell_type": "markdown",
   "metadata": {},
   "source": [
    "### Example of \"interactive\" figures"
   ]
  },
  {
   "cell_type": "code",
   "execution_count": null,
   "metadata": {},
   "outputs": [],
   "source": [
    "list_of_dataset = [ds_j1, ds_g2, ds_en, ds_tpn]\n",
    "central_date = numpy.datetime64('2012-10-05')\n",
    "delta_t = numpy.timedelta64(5, 'D')\n",
    "hvplot_demo_obs_nadir(list_of_dataset, dc_ref, central_date, delta_t)"
   ]
  },
  {
   "cell_type": "code",
   "execution_count": null,
   "metadata": {},
   "outputs": [],
   "source": [
    "list_of_dataset = ds_swot_karin\n",
    "central_date = numpy.datetime64('2012-10-05')\n",
    "delta_t = numpy.timedelta64(5, 'D')\n",
    "hvplot_demo_obs_karin(list_of_dataset, dc_ref, central_date, delta_t)"
   ]
  },
  {
   "cell_type": "code",
   "execution_count": null,
   "metadata": {},
   "outputs": [],
   "source": []
  }
 ],
 "metadata": {
  "kernelspec": {
   "display_name": "Python 3",
   "language": "python",
   "name": "python3"
  },
  "language_info": {
   "codemirror_mode": {
    "name": "ipython",
    "version": 3
   },
   "file_extension": ".py",
   "mimetype": "text/x-python",
   "name": "python",
   "nbconvert_exporter": "python",
   "pygments_lexer": "ipython3",
   "version": "3.7.7"
  }
 },
 "nbformat": 4,
 "nbformat_minor": 4
}
