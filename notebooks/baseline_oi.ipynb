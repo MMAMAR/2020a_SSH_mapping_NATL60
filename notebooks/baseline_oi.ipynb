{
 "cells": [
  {
   "cell_type": "markdown",
   "metadata": {},
   "source": [
    "<h1> Demo. Optimal Interpolation </h1>"
   ]
  },
  {
   "cell_type": "markdown",
   "metadata": {},
   "source": [
    "An example of simulated SSH data access is provided in the \"example_data_access.ipynb\" notebook. Here, an example of simple mapping technique  is proposed. The notebook is structured as follow: 1) reading of pseudo-observations, 2) make reconstruction grid, 3) set optimal interpolation parameters and 4) perform optimal interpolation & save results"
   ]
  },
  {
   "cell_type": "code",
   "execution_count": null,
   "metadata": {},
   "outputs": [],
   "source": [
    "import xarray as xr\n",
    "import cftime\n",
    "import geoviews as gv\n",
    "import matplotlib.pylab as plt\n",
    "import numpy as np\n",
    "from datetime import datetime, timedelta\n",
    "import numpy\n",
    "#import pyinterp\n",
    "#import holoviews as hv\n",
    "\n",
    "#gv.extension('bokeh')"
   ]
  },
  {
   "cell_type": "markdown",
   "metadata": {},
   "source": [
    "### 1) Read Pseudo-Observation"
   ]
  },
  {
   "cell_type": "markdown",
   "metadata": {},
   "source": [
    "##### Read observations lon/lat/time/ssh"
   ]
  },
  {
   "cell_type": "code",
   "execution_count": null,
   "metadata": {},
   "outputs": [],
   "source": [
    "# Ref start date of NATL60 simulation\n",
    "simu_start_date = '2012-10-01'\n",
    "def preprocess_time_swot_karin(ds):\n",
    "    # This preprocessing must be avoided in future dataset release\n",
    "    ds['time'] = cftime.num2date(ds['time'].values, 'seconds since ' + simu_start_date)\n",
    "    # Duplicate time over across track dimension for swath\n",
    "    ds = ds.stack(z=('nC', 'time'))\n",
    "    return ds\n",
    "\n",
    "ds_swot_karin = xr.open_mfdataset('./dc_obs/swot/BOOST-SWOT_SWOT_GULFSTREAM_c*.nc', preprocess=preprocess_time_swot_karin, combine='nested', concat_dim='z')\n",
    "ds_swot_karin"
   ]
  },
  {
   "cell_type": "code",
   "execution_count": null,
   "metadata": {},
   "outputs": [],
   "source": [
    "lon = ds_swot_karin.lon.values\n",
    "lat = ds_swot_karin.lat.values\n",
    "time = cftime.date2num(ds_swot_karin.time.values , units='days since 2012-10-01')\n",
    "ssh = ds_swot_karin.ssh_model.values"
   ]
  },
  {
   "cell_type": "markdown",
   "metadata": {},
   "source": [
    "##### Clean nan values"
   ]
  },
  {
   "cell_type": "code",
   "execution_count": null,
   "metadata": {},
   "outputs": [],
   "source": [
    "indsel = np.where((np.isnan(ssh)==False))\n",
    "lon = lon[indsel]\n",
    "lat = lat[indsel]\n",
    "time = time[indsel]\n",
    "ssh = ssh[indsel]\n",
    "\n",
    "skip = 100 \n",
    "# Discard a bit ...\n",
    "# ... for a \"reasonable\" computational time\n",
    "lonr = lon[::skip]\n",
    "latr = lat[::skip]\n",
    "timer = time[::skip]\n",
    "sshr = ssh[::skip]"
   ]
  },
  {
   "cell_type": "markdown",
   "metadata": {},
   "source": [
    "#### 2) Define reconstruction grid"
   ]
  },
  {
   "cell_type": "code",
   "execution_count": null,
   "metadata": {},
   "outputs": [],
   "source": [
    "# Grid\n",
    "lon_min = 295.\n",
    "lon_max = 305.\n",
    "lat_min = 33.\n",
    "lat_max = 43.\n",
    "time_min = datetime.strptime('2012-10-01', '%Y-%m-%d')\n",
    "time_max = datetime.strptime('2012-10-10', '%Y-%m-%d')\n",
    "\n",
    "# box = [295., 305., 33., 43., 50., 60.]   # study box\n",
    "dx = 0.2                                 # zonal spatial step (in degree)\n",
    "dy = 0.2                                 # zonal spatial step (in degree)\n",
    "dt = 1.                                  # meridional spatial step\n",
    "\n",
    "\n",
    "# Make ouput grid lon/lat/time vector\n",
    "glon = numpy.arange(lon_min, lon_max + dx, dx)\n",
    "glat = numpy.arange(lat_min, lat_max + dy, dy)\n",
    "gtime = numpy.arange(cftime.date2num(time_min, f'days since {simu_start_date}'), cftime.date2num(time_max, f'days since {simu_start_date}') + dt, dt)\n",
    "nx = len(glon)\n",
    "ny = len(glat)\n",
    "nt = len(gtime)\n",
    "\n",
    "# define & initialize ssh array\n",
    "gssh = numpy.empty((nt,ny,nx))\n",
    "\n",
    "# Make 2D grid\n",
    "glon2, glat2 = numpy.meshgrid(glon, glat)\n",
    "fglon = glon2.flatten()\n",
    "fglat = glat2.flatten()\n",
    "ng = len(fglat) # number of grid points"
   ]
  },
  {
   "cell_type": "markdown",
   "metadata": {},
   "source": [
    "#### 3) Define Optimal Interpolation parameters"
   ]
  },
  {
   "cell_type": "code",
   "execution_count": null,
   "metadata": {},
   "outputs": [],
   "source": [
    "Lx = 1.       # Zonal correlation scale in degree    \n",
    "Ly = 1.       # Meridional correlation scale in degree\n",
    "Lt = 7.       # Temporal correlation scale in days     \n",
    "noise = 0.05  # noise level (% of signal variance)"
   ]
  },
  {
   "cell_type": "markdown",
   "metadata": {},
   "source": [
    "#### 4) Perform Optimal interpolation"
   ]
  },
  {
   "cell_type": "markdown",
   "metadata": {},
   "source": [
    "##### OI block (may take sevral minutes for 1 month OI)"
   ]
  },
  {
   "cell_type": "code",
   "execution_count": null,
   "metadata": {},
   "outputs": [],
   "source": [
    "nobs_it = np.zeros(gtime.size)\n",
    "\n",
    "for it in range(len(gtime)):\n",
    "    \n",
    "    ind1 = numpy.where((numpy.abs(timer-gtime[it])<2.*Lt))[0]\n",
    "    nobs = len(ind1)\n",
    "    print(it, '/', len(gtime)-1, 'nobs = ', nobs, end=\"\\r\")\n",
    "    \n",
    "    BHt = numpy.empty((ng,nobs))\n",
    "    HBHt = numpy.empty((nobs,nobs))\n",
    "    \n",
    "    for iobs in range(nobs):\n",
    "        BHt[:,iobs] = numpy.exp(-((gtime[it]-timer[ind1][iobs])/Lt)**2 - ((fglon-lonr[ind1][iobs])/Lx)**2 - ((fglat-latr[ind1][iobs])/Ly)**2)\n",
    "        HBHt[:,iobs] = numpy.exp(-((timer[ind1]-timer[ind1][iobs])/Lt)**2 - ((lonr[ind1]-lonr[ind1][iobs])/Lx)**2 - ((latr[ind1]-latr[ind1][iobs])/Ly)**2)\n",
    "        \n",
    "    R = numpy.diag(numpy.full((nobs), noise**2))\n",
    "\n",
    "    Coo = HBHt + R\n",
    "    \n",
    "    Mi = numpy.linalg.inv(Coo)\n",
    "\n",
    "    sol = numpy.dot(numpy.dot(BHt, Mi), sshr[ind1])\n",
    "\n",
    "    gssh[it,:,:] = sol.reshape(ny, nx)\n",
    "    nobs_it[it] = nobs"
   ]
  },
  {
   "cell_type": "markdown",
   "metadata": {},
   "source": [
    "##### Save reconstruction to dataset"
   ]
  },
  {
   "cell_type": "code",
   "execution_count": null,
   "metadata": {},
   "outputs": [],
   "source": [
    "dc_reconstruction = xr.Dataset({'ssh_rec' : (('time', 'lat', 'lon'), gssh), 'nobs' : ('time', nobs_it)},\n",
    "                               coords={'time': [numpy.datetime64(simu_start_date) + numpy.timedelta64(int(tt), 'D') for tt in gtime],\n",
    "                                       'lon': glon - 360., \n",
    "                                       'lat': glat, \n",
    "                                       })  \n",
    "dc_reconstruction                               "
   ]
  },
  {
   "cell_type": "code",
   "execution_count": null,
   "metadata": {},
   "outputs": [],
   "source": [
    "### add save dc_reconstruction to netcdf\n",
    "stmin = time_min.strftime('%Y-%m-%d')\n",
    "stmax = time_max.strftime('%Y-%m-%d')\n",
    "output_filename = f\"ssh_rec_{stmin}_{stmax}.nc\"\n",
    "dc_reconstruction.to_netcdf(output_filename)"
   ]
  },
  {
   "cell_type": "markdown",
   "metadata": {},
   "source": [
    "##### Plot example"
   ]
  },
  {
   "cell_type": "code",
   "execution_count": null,
   "metadata": {},
   "outputs": [],
   "source": [
    "dc_ref = xr.open_mfdataset('./dc_ref/*.nc', combine='nested', concat_dim='time')\n",
    "dc_ref"
   ]
  },
  {
   "cell_type": "code",
   "execution_count": null,
   "metadata": {},
   "outputs": [],
   "source": [
    "time_selection = '2012-10-05T23:00:00'\n",
    "plt.figure(figsize=(15, 5))\n",
    "plt.subplot(121)\n",
    "dc_reconstruction.ssh_rec.sel(time=time_selection, method='nearest').plot(vmin=-0.2, vmax=1, cmap='gist_stern')\n",
    "plt.title('Reconstruction SSH', fontweight='bold')\n",
    "plt.subplot(122)\n",
    "dc_ref.sossheig.sel(time=time_selection, method='nearest').plot(vmin=-0.2, vmax=1, cmap='gist_stern')\n",
    "plt.title('Reference SSH', fontweight='bold')\n",
    "plt.savefig('example_ssh_ref_vs_ssh_reconstruction.png')"
   ]
  }
 ],
 "metadata": {
  "kernelspec": {
   "display_name": "Python 3",
   "language": "python",
   "name": "python3"
  },
  "language_info": {
   "codemirror_mode": {
    "name": "ipython",
    "version": 3
   },
   "file_extension": ".py",
   "mimetype": "text/x-python",
   "name": "python",
   "nbconvert_exporter": "python",
   "pygments_lexer": "ipython3",
   "version": "3.7.7"
  }
 },
 "nbformat": 4,
 "nbformat_minor": 4
}
